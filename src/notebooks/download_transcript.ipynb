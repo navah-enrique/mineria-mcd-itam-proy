{
 "cells": [
  {
   "cell_type": "code",
   "execution_count": 1,
   "id": "8a10d583",
   "metadata": {},
   "outputs": [],
   "source": [
    "import pandas as pd\n",
    "from time import sleep\n",
    "import os\n",
    "from selenium import webdriver # for interacting with website\n",
    "from selenium.webdriver.common.by import By\n",
    "import re"
   ]
  },
  {
   "cell_type": "code",
   "execution_count": 2,
   "id": "4dda0a5c",
   "metadata": {},
   "outputs": [],
   "source": [
    "def transcript2df(transcript):\n",
    "    pattern = r'^(([0-9]{2}|[0-9]{1}):([0-9]{2}|[0-9]{1})|([0-9]{2}|[0-9]{1})):[0-9]{2}$'\n",
    "    transcript_timestamps,transcript_dialog,prev = [],[],None\n",
    "    for item in transcript:\n",
    "        if re.match(pattern, item):\n",
    "            transcript_timestamps.append(item)\n",
    "            if prev == None: prev = item\n",
    "            else: \n",
    "                transcript_dialog.append(prev)\n",
    "                prev = item\n",
    "        else:\n",
    "            if re.match(pattern, prev):\n",
    "                prev = item\n",
    "            else:\n",
    "                prev = prev + ' ' + item\n",
    "    transcript_dialog.append(item)\n",
    "    df = pd.DataFrame({'timestamp':transcript_timestamps, \n",
    "                   'text':transcript_dialog})    \n",
    "    return df"
   ]
  },
  {
   "cell_type": "code",
   "execution_count": 5,
   "id": "5fa9ed46",
   "metadata": {},
   "outputs": [],
   "source": [
    "def get_youtube_transcript(video_ids):\n",
    "    frames = []\n",
    "    driver = webdriver.Chrome()\n",
    "    for video_id in video_ids:\n",
    "        try:\n",
    "            driver.get(f\"https://www.youtube.com/watch?v={video_id}\")\n",
    "            sleep(4)\n",
    "            driver.find_element(By.XPATH,'//*[@id=\"button-shape\"]/button').click()\n",
    "            sleep(2)\n",
    "            driver.find_element(By.XPATH,'//*[@id=\"items\"]/ytd-menu-service-item-renderer[2]/tp-yt-paper-item/yt-formatted-string').click()\n",
    "            sleep(4)\n",
    "            transcript_element = driver.find_element(By.XPATH,\"//*[@id='body']/ytd-transcript-segment-list-renderer\")\n",
    "            transcript = transcript_element.text\n",
    "            transcript = transcript.split('\\n')\n",
    "            transcript.pop(0)\n",
    "            frames.append(transcript2df(transcript).assign(video_id=video_id))\n",
    "        except:\n",
    "            print(video_id)\n",
    "    driver.quit()\n",
    "    return pd.concat(frames,ignore_index=True)"
   ]
  },
  {
   "cell_type": "code",
   "execution_count": 4,
   "id": "10e6a467",
   "metadata": {},
   "outputs": [],
   "source": [
    "df = pd.read_parquet('../scripts/data/scrap_oso_trava/playlist_videos.parquet')"
   ]
  },
  {
   "cell_type": "code",
   "execution_count": 6,
   "id": "9d36dc43",
   "metadata": {},
   "outputs": [
    {
     "name": "stdout",
     "output_type": "stream",
     "text": [
      "nYE_PI1g2G4\n",
      "Zi298e7ohUw\n"
     ]
    },
    {
     "data": {
      "text/html": [
       "<div>\n",
       "<style scoped>\n",
       "    .dataframe tbody tr th:only-of-type {\n",
       "        vertical-align: middle;\n",
       "    }\n",
       "\n",
       "    .dataframe tbody tr th {\n",
       "        vertical-align: top;\n",
       "    }\n",
       "\n",
       "    .dataframe thead th {\n",
       "        text-align: right;\n",
       "    }\n",
       "</style>\n",
       "<table border=\"1\" class=\"dataframe\">\n",
       "  <thead>\n",
       "    <tr style=\"text-align: right;\">\n",
       "      <th></th>\n",
       "      <th>timestamp</th>\n",
       "      <th>text</th>\n",
       "      <th>video_id</th>\n",
       "    </tr>\n",
       "  </thead>\n",
       "  <tbody>\n",
       "    <tr>\n",
       "      <th>0</th>\n",
       "      <td>0:00</td>\n",
       "      <td>el punto central de lo que tiene una filosofía...</td>\n",
       "      <td>fQYtqIELCVE</td>\n",
       "    </tr>\n",
       "    <tr>\n",
       "      <th>1</th>\n",
       "      <td>0:05</td>\n",
       "      <td>aprendido algo que es adaptación si tú no te a...</td>\n",
       "      <td>fQYtqIELCVE</td>\n",
       "    </tr>\n",
       "    <tr>\n",
       "      <th>2</th>\n",
       "      <td>0:11</td>\n",
       "      <td>llegué a japón pensando que japón ciudad a par...</td>\n",
       "      <td>fQYtqIELCVE</td>\n",
       "    </tr>\n",
       "    <tr>\n",
       "      <th>3</th>\n",
       "      <td>0:17</td>\n",
       "      <td>de crecimiento [Música]</td>\n",
       "      <td>fQYtqIELCVE</td>\n",
       "    </tr>\n",
       "    <tr>\n",
       "      <th>4</th>\n",
       "      <td>0:31</td>\n",
       "      <td>hola y bienvenidos a un nuevo episodio de crac...</td>\n",
       "      <td>fQYtqIELCVE</td>\n",
       "    </tr>\n",
       "    <tr>\n",
       "      <th>...</th>\n",
       "      <td>...</td>\n",
       "      <td>...</td>\n",
       "      <td>...</td>\n",
       "    </tr>\n",
       "    <tr>\n",
       "      <th>2774</th>\n",
       "      <td>1:26:46</td>\n",
       "      <td>quieres recibir todos los bienes un correo muy...</td>\n",
       "      <td>7y2y9lTs5r0</td>\n",
       "    </tr>\n",
       "    <tr>\n",
       "      <th>2775</th>\n",
       "      <td>1:26:53</td>\n",
       "      <td>frases artículos cosas que me recomiendan mis ...</td>\n",
       "      <td>7y2y9lTs5r0</td>\n",
       "    </tr>\n",
       "    <tr>\n",
       "      <th>2776</th>\n",
       "      <td>1:27:00</td>\n",
       "      <td>creo que pueden ayudarte a tener una vida más ...</td>\n",
       "      <td>7y2y9lTs5r0</td>\n",
       "    </tr>\n",
       "    <tr>\n",
       "      <th>2777</th>\n",
       "      <td>1:27:07</td>\n",
       "      <td>de cracks es totalmente gratis y puedes recibi...</td>\n",
       "      <td>7y2y9lTs5r0</td>\n",
       "    </tr>\n",
       "    <tr>\n",
       "      <th>2778</th>\n",
       "      <td>1:27:15</td>\n",
       "      <td>por hoy Yo soy oso trava y espero que tengas u...</td>\n",
       "      <td>7y2y9lTs5r0</td>\n",
       "    </tr>\n",
       "  </tbody>\n",
       "</table>\n",
       "<p>2779 rows × 3 columns</p>\n",
       "</div>"
      ],
      "text/plain": [
       "     timestamp                                               text     video_id\n",
       "0         0:00  el punto central de lo que tiene una filosofía...  fQYtqIELCVE\n",
       "1         0:05  aprendido algo que es adaptación si tú no te a...  fQYtqIELCVE\n",
       "2         0:11  llegué a japón pensando que japón ciudad a par...  fQYtqIELCVE\n",
       "3         0:17                            de crecimiento [Música]  fQYtqIELCVE\n",
       "4         0:31  hola y bienvenidos a un nuevo episodio de crac...  fQYtqIELCVE\n",
       "...        ...                                                ...          ...\n",
       "2774   1:26:46  quieres recibir todos los bienes un correo muy...  7y2y9lTs5r0\n",
       "2775   1:26:53  frases artículos cosas que me recomiendan mis ...  7y2y9lTs5r0\n",
       "2776   1:27:00  creo que pueden ayudarte a tener una vida más ...  7y2y9lTs5r0\n",
       "2777   1:27:07  de cracks es totalmente gratis y puedes recibi...  7y2y9lTs5r0\n",
       "2778   1:27:15  por hoy Yo soy oso trava y espero que tengas u...  7y2y9lTs5r0\n",
       "\n",
       "[2779 rows x 3 columns]"
      ]
     },
     "execution_count": 6,
     "metadata": {},
     "output_type": "execute_result"
    }
   ],
   "source": [
    "result = get_youtube_transcript(df.id.unique()[20:25])\n",
    "result"
   ]
  },
  {
   "cell_type": "code",
   "execution_count": null,
   "id": "a25ab574",
   "metadata": {},
   "outputs": [],
   "source": [
    "result.to_parquet('../scripts/data/scrap_oso_trava/videos_s',)"
   ]
  }
 ],
 "metadata": {
  "kernelspec": {
   "display_name": "Python 3 (ipykernel)",
   "language": "python",
   "name": "python3"
  },
  "language_info": {
   "codemirror_mode": {
    "name": "ipython",
    "version": 3
   },
   "file_extension": ".py",
   "mimetype": "text/x-python",
   "name": "python",
   "nbconvert_exporter": "python",
   "pygments_lexer": "ipython3",
   "version": "3.11.4"
  }
 },
 "nbformat": 4,
 "nbformat_minor": 5
}
