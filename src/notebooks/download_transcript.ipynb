{
 "cells": [
  {
   "cell_type": "code",
   "execution_count": 1,
   "id": "8a10d583",
   "metadata": {},
   "outputs": [],
   "source": [
    "import pandas as pd\n",
    "from time import sleep\n",
    "import os\n",
    "from selenium import webdriver\n",
    "from selenium.webdriver.common.by import By\n",
    "from selenium.webdriver.support.ui import WebDriverWait\n",
    "from selenium.webdriver.support import expected_conditions as EC\n",
    "import re\n",
    "import sys"
   ]
  },
  {
   "cell_type": "code",
   "execution_count": 2,
   "id": "4dda0a5c",
   "metadata": {},
   "outputs": [],
   "source": [
    "# tranform the transcript text to a dataframe\n",
    "def transcript2df(transcript):\n",
    "    pattern = r'^(([0-9]{2}|[0-9]{1}):([0-9]{2}|[0-9]{1})|([0-9]{2}|[0-9]{1})):[0-9]{2}$'\n",
    "    transcript_timestamps,transcript_dialog,prev = [],[],None\n",
    "    if not re.match(pattern, transcript[0]): # delete the title\n",
    "        transcript.pop(0)\n",
    "    for item in transcript:\n",
    "        if re.match(pattern, item):\n",
    "            transcript_timestamps.append(item)\n",
    "            if prev == None: prev = item\n",
    "            else: \n",
    "                transcript_dialog.append(prev)\n",
    "                prev = item\n",
    "        else:\n",
    "            if re.match(pattern, prev):\n",
    "                prev = item\n",
    "            else:\n",
    "                prev = prev + ' ' + item\n",
    "    transcript_dialog.append(item)\n",
    "    df = pd.DataFrame({'timestamp':transcript_timestamps, \n",
    "                   'text':transcript_dialog})    \n",
    "    return df"
   ]
  },
  {
   "cell_type": "code",
   "execution_count": 3,
   "id": "5fa9ed46",
   "metadata": {},
   "outputs": [],
   "source": [
    "# scrape video transcript\n",
    "def get_youtube_transcript(video_ids,driver_='Chrome'):\n",
    "    frames,not_found_video_id = [],[]\n",
    "    if driver_ == 'Chrome': driver = webdriver.Chrome()\n",
    "    elif driver_ == 'Firefox': driver = webdriver.Firefox()\n",
    "    else: sys.exit('Driver not found')\n",
    "    wait = WebDriverWait(driver, 10)\n",
    "    for video_id in video_ids:\n",
    "        try:\n",
    "            driver.get(f\"https://www.youtube.com/watch?v={video_id}\")\n",
    "            wait.until(EC.element_to_be_clickable((By.XPATH, '//*[@id=\"button-shape\"]/button'))).click()\n",
    "            wait.until(EC.element_to_be_clickable((By.XPATH, '//*[@id=\"items\"]/ytd-menu-service-item-renderer[2]/tp-yt-paper-item/yt-formatted-string'))).click()\n",
    "            transcript_element = wait.until(EC.presence_of_element_located((By.XPATH, \"//*[@id='body']/ytd-transcript-segment-list-renderer\")))\n",
    "            transcript = transcript_element.text\n",
    "            transcript = transcript.split('\\n')\n",
    "            frames.append(transcript2df(transcript).assign(video_id=video_id))\n",
    "        except:\n",
    "            not_found_video_id.append(video_id)\n",
    "    driver.quit()\n",
    "    return pd.concat(frames,ignore_index=True),not_found_video_id"
   ]
  },
  {
   "cell_type": "code",
   "execution_count": 4,
   "id": "10e6a467",
   "metadata": {},
   "outputs": [],
   "source": [
    "df = pd.read_parquet('../../data/scrap_oso_trava/playlist_videos.parquet')"
   ]
  },
  {
   "cell_type": "code",
   "execution_count": 5,
   "id": "9d36dc43",
   "metadata": {},
   "outputs": [
    {
     "name": "stdout",
     "output_type": "stream",
     "text": [
      "222\n"
     ]
    },
    {
     "data": {
      "text/html": [
       "<div>\n",
       "<style scoped>\n",
       "    .dataframe tbody tr th:only-of-type {\n",
       "        vertical-align: middle;\n",
       "    }\n",
       "\n",
       "    .dataframe tbody tr th {\n",
       "        vertical-align: top;\n",
       "    }\n",
       "\n",
       "    .dataframe thead th {\n",
       "        text-align: right;\n",
       "    }\n",
       "</style>\n",
       "<table border=\"1\" class=\"dataframe\">\n",
       "  <thead>\n",
       "    <tr style=\"text-align: right;\">\n",
       "      <th></th>\n",
       "      <th>timestamp</th>\n",
       "      <th>text</th>\n",
       "      <th>video_id</th>\n",
       "    </tr>\n",
       "  </thead>\n",
       "  <tbody>\n",
       "    <tr>\n",
       "      <th>0</th>\n",
       "      <td>0:00</td>\n",
       "      <td>Nosotros le mentíamos como que se iba a salvar...</td>\n",
       "      <td>fL9FNpuGK_8</td>\n",
       "    </tr>\n",
       "    <tr>\n",
       "      <th>1</th>\n",
       "      <td>0:06</td>\n",
       "      <td>describir mi familia era una familia enferma n...</td>\n",
       "      <td>fL9FNpuGK_8</td>\n",
       "    </tr>\n",
       "    <tr>\n",
       "      <th>2</th>\n",
       "      <td>0:14</td>\n",
       "      <td>brazos meto a Yuli me voy le llamo al médico l...</td>\n",
       "      <td>fL9FNpuGK_8</td>\n",
       "    </tr>\n",
       "    <tr>\n",
       "      <th>3</th>\n",
       "      <td>0:20</td>\n",
       "      <td>impedirte a llorar entre eso soy osos y silenc...</td>\n",
       "      <td>fL9FNpuGK_8</td>\n",
       "    </tr>\n",
       "    <tr>\n",
       "      <th>4</th>\n",
       "      <td>0:26</td>\n",
       "      <td>cerebral más joven un cáncer peor pronóstico p...</td>\n",
       "      <td>fL9FNpuGK_8</td>\n",
       "    </tr>\n",
       "  </tbody>\n",
       "</table>\n",
       "</div>"
      ],
      "text/plain": [
       "  timestamp                                               text     video_id\n",
       "0      0:00  Nosotros le mentíamos como que se iba a salvar...  fL9FNpuGK_8\n",
       "1      0:06  describir mi familia era una familia enferma n...  fL9FNpuGK_8\n",
       "2      0:14  brazos meto a Yuli me voy le llamo al médico l...  fL9FNpuGK_8\n",
       "3      0:20  impedirte a llorar entre eso soy osos y silenc...  fL9FNpuGK_8\n",
       "4      0:26  cerebral más joven un cáncer peor pronóstico p...  fL9FNpuGK_8"
      ]
     },
     "execution_count": 5,
     "metadata": {},
     "output_type": "execute_result"
    }
   ],
   "source": [
    "print(len(df.id.unique()))\n",
    "result,not_found_video_id = get_youtube_transcript(df.id.unique())\n",
    "result.head()"
   ]
  },
  {
   "cell_type": "code",
   "execution_count": 27,
   "id": "04bde789",
   "metadata": {},
   "outputs": [
    {
     "name": "stdout",
     "output_type": "stream",
     "text": [
      "222\n",
      "216\n",
      "6\n"
     ]
    }
   ],
   "source": [
    "print(len(df.id.unique()))\n",
    "print(len(result.video_id.unique()))\n",
    "print(len(not_found_video_id))"
   ]
  },
  {
   "cell_type": "code",
   "execution_count": 28,
   "id": "a25ab574",
   "metadata": {},
   "outputs": [],
   "source": [
    "result.to_parquet('../scripts/data/scrap_oso_trava/videos_transcript.parquet',index=False)"
   ]
  },
  {
   "cell_type": "code",
   "execution_count": null,
   "id": "de11a9b3",
   "metadata": {},
   "outputs": [],
   "source": []
  }
 ],
 "metadata": {
  "kernelspec": {
   "display_name": "Python 3 (ipykernel)",
   "language": "python",
   "name": "python3"
  },
  "language_info": {
   "codemirror_mode": {
    "name": "ipython",
    "version": 3
   },
   "file_extension": ".py",
   "mimetype": "text/x-python",
   "name": "python",
   "nbconvert_exporter": "python",
   "pygments_lexer": "ipython3",
   "version": "3.11.4"
  }
 },
 "nbformat": 4,
 "nbformat_minor": 5
}
