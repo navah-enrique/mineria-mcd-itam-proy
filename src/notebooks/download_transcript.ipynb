{
 "cells": [
  {
   "cell_type": "code",
   "execution_count": 3,
   "id": "8a10d583",
   "metadata": {},
   "outputs": [],
   "source": [
    "import pandas as pd\n",
    "from time import sleep\n",
    "import os\n",
    "from selenium import webdriver # for interacting with website\n",
    "from selenium.webdriver.common.by import By\n",
    "import re"
   ]
  },
  {
   "cell_type": "code",
   "execution_count": 5,
   "id": "4dda0a5c",
   "metadata": {},
   "outputs": [],
   "source": [
    "def transcript2df(transcript):\n",
    "    pattern = r'^(([0-9]{2}|[0-9]{1}):([0-9]{2}|[0-9]{1})|([0-9]{2}|[0-9]{1})):[0-9]{2}$'\n",
    "    transcript_timestamps,transcript_dialog,prev = [],[],None\n",
    "    for item in transcript:\n",
    "        if re.match(pattern, item):\n",
    "            transcript_timestamps.append(item)\n",
    "            if prev == None: prev = item\n",
    "            else: \n",
    "                transcript_dialog.append(prev)\n",
    "                prev = item\n",
    "        else:\n",
    "            if re.match(pattern, prev):\n",
    "                prev = item\n",
    "            else:\n",
    "                prev = prev + ' ' + item\n",
    "    transcript_dialog.append(item)\n",
    "    df = pd.DataFrame({'timestamp':transcript_timestamps, \n",
    "                   'text':transcript_dialog})    \n",
    "    return df"
   ]
  },
  {
   "cell_type": "code",
   "execution_count": 36,
   "id": "5fa9ed46",
   "metadata": {},
   "outputs": [],
   "source": [
    "def get_youtube_transcript(video_ids):\n",
    "    frames = []\n",
    "    driver = webdriver.Chrome()\n",
    "    for video_id in video_ids:\n",
    "        try:\n",
    "            print(video_id)\n",
    "            driver.get(f\"https://www.youtube.com/watch?v={video_id}\")\n",
    "            sleep(4)\n",
    "            driver.find_element(By.XPATH,'//*[@id=\"button-shape\"]/button').click()\n",
    "            sleep(2)\n",
    "            driver.find_element(By.XPATH,'//*[@id=\"items\"]/ytd-menu-service-item-renderer[2]/tp-yt-paper-item/yt-formatted-string').click()\n",
    "            sleep(4)\n",
    "            transcript_element = driver.find_element(By.XPATH,\"//*[@id='body']/ytd-transcript-segment-list-renderer\")\n",
    "            transcript = transcript_element.text\n",
    "            transcript = transcript.split('\\n')\n",
    "            transcript.pop(0)\n",
    "            frames.append(transcript2df(transcript).assign(video_id=video_id))\n",
    "        except:\n",
    "            print(video_id)\n",
    "    driver.quit()\n",
    "    return pd.concat(frames,ignore_index=True)"
   ]
  },
  {
   "cell_type": "code",
   "execution_count": 4,
   "id": "10e6a467",
   "metadata": {},
   "outputs": [],
   "source": [
    "df = pd.read_parquet('../scripts/data/scrap_oso_trava/playlist_videos.parquet')"
   ]
  },
  {
   "cell_type": "code",
   "execution_count": 38,
   "id": "9d36dc43",
   "metadata": {},
   "outputs": [
    {
     "data": {
      "text/plain": [
       "fL9FNpuGK_8    1139\n",
       "OGwMD9NMQMA    1015\n",
       "uTS8L1kvjmY     942\n",
       "027NOppIrVQ     919\n",
       "2u6FeKJ-biw     896\n",
       "Name: video_id, dtype: int64"
      ]
     },
     "execution_count": 38,
     "metadata": {},
     "output_type": "execute_result"
    }
   ],
   "source": [
    "result = get_youtube_transcript(df.id.unique()[:5])\n",
    "result"
   ]
  }
 ],
 "metadata": {
  "kernelspec": {
   "display_name": "Python 3 (ipykernel)",
   "language": "python",
   "name": "python3"
  },
  "language_info": {
   "codemirror_mode": {
    "name": "ipython",
    "version": 3
   },
   "file_extension": ".py",
   "mimetype": "text/x-python",
   "name": "python",
   "nbconvert_exporter": "python",
   "pygments_lexer": "ipython3",
   "version": "3.11.4"
  }
 },
 "nbformat": 4,
 "nbformat_minor": 5
}
