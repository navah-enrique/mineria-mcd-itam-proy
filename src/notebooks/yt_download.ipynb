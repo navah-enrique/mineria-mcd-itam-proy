{
 "cells": [
  {
   "cell_type": "code",
   "execution_count": 1,
   "metadata": {},
   "outputs": [],
   "source": [
    "from pytube import YouTube"
   ]
  },
  {
   "cell_type": "code",
   "execution_count": 7,
   "metadata": {},
   "outputs": [],
   "source": [
    "def YT_download(url):\n",
    "    \"\"\"get audio from YouTube\"\"\"\n",
    "    # start YouTube instance\n",
    "    video = YouTube(url)\n",
    "    # save video title\n",
    "    title,video_id = video.title,video.video_id\n",
    "    # download audio\n",
    "    descarga = video.streams.get_audio_only()\n",
    "    descarga.download(filename=f'{title}({video_id}).mp4')"
   ]
  },
  {
   "cell_type": "code",
   "execution_count": null,
   "metadata": {},
   "outputs": [],
   "source": [
    "YT_download('https://www.youtube.com/watch?v=MICxNlijMnM')"
   ]
  }
 ],
 "metadata": {
  "kernelspec": {
   "display_name": "yt",
   "language": "python",
   "name": "python3"
  },
  "language_info": {
   "codemirror_mode": {
    "name": "ipython",
    "version": 3
   },
   "file_extension": ".py",
   "mimetype": "text/x-python",
   "name": "python",
   "nbconvert_exporter": "python",
   "pygments_lexer": "ipython3",
   "version": "3.9.7"
  },
  "orig_nbformat": 4
 },
 "nbformat": 4,
 "nbformat_minor": 2
}
